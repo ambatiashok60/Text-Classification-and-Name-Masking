{
 "cells": [
  {
   "cell_type": "markdown",
   "metadata": {
    "id": "7vlTGzL7_OCo"
   },
   "source": [
    "* Importing Modules"
   ]
  },
  {
   "cell_type": "code",
   "execution_count": 1,
   "metadata": {
    "executionInfo": {
     "elapsed": 13792,
     "status": "ok",
     "timestamp": 1698777050394,
     "user": {
      "displayName": "Ashok kumar",
      "userId": "14190314357788429280"
     },
     "user_tz": -330
    },
    "id": "KTs0o90HnLry"
   },
   "outputs": [],
   "source": [
    "import warnings\n",
    "warnings.filterwarnings(\"ignore\")\n",
    "\n",
    "import spacy\n",
    "import time\n",
    "import pandas as pd\n",
    "import torch\n",
    "import torch.nn as nn\n",
    "import torch.optim as optim\n",
    "import numpy as np\n",
    "from sklearn.model_selection import train_test_split\n",
    "from sklearn.metrics import classification_report\n",
    "import matplotlib.pyplot as plt"
   ]
  },
  {
   "cell_type": "markdown",
   "metadata": {
    "id": "NB9lfem-AJs5"
   },
   "source": [
    "*  Load the spaCy model"
   ]
  },
  {
   "cell_type": "code",
   "execution_count": 2,
   "metadata": {
    "executionInfo": {
     "elapsed": 11450,
     "status": "ok",
     "timestamp": 1698777061842,
     "user": {
      "displayName": "Ashok kumar",
      "userId": "14190314357788429280"
     },
     "user_tz": -330
    },
    "id": "QqpBtl5et3ob"
   },
   "outputs": [],
   "source": [
    "nlp = spacy.load(\"en_core_web_lg\")"
   ]
  },
  {
   "cell_type": "markdown",
   "metadata": {
    "id": "Rkhcm3HNANZS"
   },
   "source": [
    "* Load the dataset. The dataset contains two columns [Comments, Emotions]"
   ]
  },
  {
   "cell_type": "code",
   "execution_count": 3,
   "metadata": {
    "executionInfo": {
     "elapsed": 17,
     "status": "ok",
     "timestamp": 1698777061847,
     "user": {
      "displayName": "Ashok kumar",
      "userId": "14190314357788429280"
     },
     "user_tz": -330
    },
    "id": "qm11IG0zt6eL"
   },
   "outputs": [],
   "source": [
    "df = pd.read_csv('/content/classification_data.csv', encoding='utf-8')"
   ]
  },
  {
   "cell_type": "code",
   "execution_count": 4,
   "metadata": {
    "executionInfo": {
     "elapsed": 16,
     "status": "ok",
     "timestamp": 1698777061847,
     "user": {
      "displayName": "Ashok kumar",
      "userId": "14190314357788429280"
     },
     "user_tz": -330
    },
    "id": "waH3giz-um0g"
   },
   "outputs": [],
   "source": [
    "def get_word_vectors(text):\n",
    "    doc = nlp(\" \".join(text))\n",
    "    return torch.tensor([word.vector for word in doc])"
   ]
  },
  {
   "cell_type": "markdown",
   "metadata": {
    "id": "8WkoD2-fAi4g"
   },
   "source": [
    "* Prepare the data"
   ]
  },
  {
   "cell_type": "code",
   "execution_count": 5,
   "metadata": {
    "executionInfo": {
     "elapsed": 140310,
     "status": "ok",
     "timestamp": 1698777202144,
     "user": {
      "displayName": "Ashok kumar",
      "userId": "14190314357788429280"
     },
     "user_tz": -330
    },
    "id": "S9dklp7ouVsT"
   },
   "outputs": [],
   "source": [
    "X = [get_word_vectors(comment.split()) for comment in df[\"Comment\"]]\n",
    "y = df[\"Emotion\"].tolist()"
   ]
  },
  {
   "cell_type": "markdown",
   "metadata": {
    "id": "jR8f6CKrAokO"
   },
   "source": [
    "* Convert labels to numerical values"
   ]
  },
  {
   "cell_type": "code",
   "execution_count": 6,
   "metadata": {
    "executionInfo": {
     "elapsed": 7,
     "status": "ok",
     "timestamp": 1698777202145,
     "user": {
      "displayName": "Ashok kumar",
      "userId": "14190314357788429280"
     },
     "user_tz": -330
    },
    "id": "E5kfDDcUuZ3C"
   },
   "outputs": [],
   "source": [
    "label_to_idx = {label: idx for idx, label in enumerate(set(y))}\n",
    "y = [label_to_idx[label] for label in y]"
   ]
  },
  {
   "cell_type": "markdown",
   "metadata": {
    "id": "sYM3D1nIAsqr"
   },
   "source": [
    "* Split the data into training and testing sets"
   ]
  },
  {
   "cell_type": "code",
   "execution_count": 7,
   "metadata": {
    "executionInfo": {
     "elapsed": 6,
     "status": "ok",
     "timestamp": 1698777202145,
     "user": {
      "displayName": "Ashok kumar",
      "userId": "14190314357788429280"
     },
     "user_tz": -330
    },
    "id": "SmZ210MzvBlw"
   },
   "outputs": [],
   "source": [
    "X_train, X_test, y_train, y_test = train_test_split(X, y, test_size=0.2, random_state=42)"
   ]
  },
  {
   "cell_type": "markdown",
   "metadata": {
    "id": "zzTHZBDKAz3M"
   },
   "source": [
    "* Pad the sequences to make the input consistent"
   ]
  },
  {
   "cell_type": "code",
   "execution_count": 8,
   "metadata": {
    "executionInfo": {
     "elapsed": 685,
     "status": "ok",
     "timestamp": 1698777202825,
     "user": {
      "displayName": "Ashok kumar",
      "userId": "14190314357788429280"
     },
     "user_tz": -330
    },
    "id": "muK-4XnowGac"
   },
   "outputs": [],
   "source": [
    "def pad_sequences(sequences, max_len):\n",
    "    padded_sequences = []\n",
    "    for sequence in sequences:\n",
    "        if len(sequence) >= max_len:\n",
    "            padded_sequence = sequence[:max_len]\n",
    "        else:\n",
    "            padding_length = max_len - len(sequence)\n",
    "            padding = torch.zeros(padding_length, sequence.shape[1], dtype=sequence.dtype)\n",
    "            padded_sequence = torch.cat((sequence, padding), dim=0)\n",
    "        padded_sequences.append(padded_sequence)\n",
    "    return torch.stack(padded_sequences)\n",
    "\n",
    "max_seq_len = max(seq.shape[0] for seq in X)\n",
    "\n",
    "X_train_padded = pad_sequences(X_train, max_seq_len)\n",
    "X_test_padded = pad_sequences(X_test, max_seq_len)\n"
   ]
  },
  {
   "cell_type": "markdown",
   "metadata": {
    "id": "h27ovE8nA8-x"
   },
   "source": [
    "* Defining the LSTMClassifier class"
   ]
  },
  {
   "cell_type": "code",
   "execution_count": 9,
   "metadata": {
    "executionInfo": {
     "elapsed": 5,
     "status": "ok",
     "timestamp": 1698777202826,
     "user": {
      "displayName": "Ashok kumar",
      "userId": "14190314357788429280"
     },
     "user_tz": -330
    },
    "id": "f7G7JA8VyLDW"
   },
   "outputs": [],
   "source": [
    "class LSTMClassifier(nn.Module):\n",
    "    def __init__(self, input_dim, hidden_dim, output_dim, num_layers, dropout):\n",
    "        super(LSTMClassifier, self).__init__()\n",
    "        self.hidden_dim = hidden_dim\n",
    "        self.num_layers = num_layers\n",
    "        self.lstm = nn.LSTM(input_dim, hidden_dim, num_layers, dropout=dropout, batch_first=True)\n",
    "        self.fc = nn.Linear(hidden_dim, output_dim)\n",
    "\n",
    "    def forward(self, x):\n",
    "        h0 = torch.zeros(self.num_layers, x.size(0), self.hidden_dim).to(device)\n",
    "        c0 = torch.zeros(self.num_layers, x.size(0), self.hidden_dim).to(device)\n",
    "        out, _ = self.lstm(x, (h0, c0))\n",
    "        out = self.fc(out[:, -1, :])\n",
    "        return out"
   ]
  },
  {
   "cell_type": "markdown",
   "metadata": {
    "id": "l0VF8UukBHL3"
   },
   "source": [
    "* Hyperparameters of the model"
   ]
  },
  {
   "cell_type": "code",
   "execution_count": 10,
   "metadata": {
    "executionInfo": {
     "elapsed": 4,
     "status": "ok",
     "timestamp": 1698777202826,
     "user": {
      "displayName": "Ashok kumar",
      "userId": "14190314357788429280"
     },
     "user_tz": -330
    },
    "id": "QUmISUiZxozO"
   },
   "outputs": [],
   "source": [
    "input_dim = X_train_padded.shape[2]\n",
    "hidden_dim = 128\n",
    "output_dim = len(set(y_train))\n",
    "num_layers = 2\n",
    "dropout = 0.2\n",
    "learning_rate = 0.001\n",
    "batch_size = 32\n",
    "num_epochs = 100"
   ]
  },
  {
   "cell_type": "markdown",
   "metadata": {
    "id": "5NkRfYWABM2R"
   },
   "source": [
    "*  Initialize the model and optimizer"
   ]
  },
  {
   "cell_type": "code",
   "execution_count": 11,
   "metadata": {
    "executionInfo": {
     "elapsed": 659,
     "status": "ok",
     "timestamp": 1698777203481,
     "user": {
      "displayName": "Ashok kumar",
      "userId": "14190314357788429280"
     },
     "user_tz": -330
    },
    "id": "1Wd1tFnqx49y"
   },
   "outputs": [],
   "source": [
    "device = torch.device('cuda' if torch.cuda.is_available() else 'cpu')\n",
    "model = LSTMClassifier(input_dim, hidden_dim, output_dim, num_layers, dropout).to(device)\n",
    "criterion = nn.CrossEntropyLoss()\n",
    "optimizer = optim.Adam(model.parameters(), lr=learning_rate)\n"
   ]
  },
  {
   "cell_type": "markdown",
   "metadata": {
    "id": "uxAJF4wjBQwB"
   },
   "source": [
    "* Convert data to PyTorch tensors"
   ]
  },
  {
   "cell_type": "code",
   "execution_count": 12,
   "metadata": {
    "executionInfo": {
     "elapsed": 4,
     "status": "ok",
     "timestamp": 1698777203481,
     "user": {
      "displayName": "Ashok kumar",
      "userId": "14190314357788429280"
     },
     "user_tz": -330
    },
    "id": "u6ccnF3Cx4_8"
   },
   "outputs": [],
   "source": [
    "X_train_padded = X_train_padded.to(device)\n",
    "X_test_padded = X_test_padded.to(device)\n",
    "y_train = torch.tensor(y_train, dtype=torch.long).to(device)\n",
    "y_test = torch.tensor(y_test, dtype=torch.long).to(device)"
   ]
  },
  {
   "cell_type": "markdown",
   "metadata": {
    "id": "Gj5UPBcwBYTJ"
   },
   "source": [
    "* Storing training and validation losses with a maximum patience of 20 epochs for early stopping"
   ]
  },
  {
   "cell_type": "code",
   "execution_count": 13,
   "metadata": {
    "executionInfo": {
     "elapsed": 4,
     "status": "ok",
     "timestamp": 1698777203481,
     "user": {
      "displayName": "Ashok kumar",
      "userId": "14190314357788429280"
     },
     "user_tz": -330
    },
    "id": "p0n5BJxm0GzK"
   },
   "outputs": [],
   "source": [
    "train_losses = []\n",
    "val_losses = []\n",
    "\n",
    "best_val_loss = float('inf')\n",
    "patience = 20\n",
    "wait = 0"
   ]
  },
  {
   "cell_type": "markdown",
   "metadata": {
    "id": "TWdEy5jLBkpI"
   },
   "source": [
    "* Model Training"
   ]
  },
  {
   "cell_type": "code",
   "execution_count": 14,
   "metadata": {
    "colab": {
     "base_uri": "https://localhost:8080/"
    },
    "executionInfo": {
     "elapsed": 2204249,
     "status": "ok",
     "timestamp": 1698779407727,
     "user": {
      "displayName": "Ashok kumar",
      "userId": "14190314357788429280"
     },
     "user_tz": -330
    },
    "id": "Tag_iWCI0Yxq",
    "outputId": "3b66e7b0-dc7b-49af-a545-3b494d13e58c"
   },
   "outputs": [
    {
     "name": "stdout",
     "output_type": "stream",
     "text": [
      "Epoch 1/100, Training Loss: 1.098818302154541, Validation Loss: 1.0995110273361206, Time taken : 38.23secs\n",
      "\n",
      "Epoch 2/100, Training Loss: 1.09821617603302, Validation Loss: 1.100916862487793, Time taken : 74.89secs\n",
      "\n",
      "Epoch 3/100, Training Loss: 1.098122239112854, Validation Loss: 1.101603627204895, Time taken : 108.87secs\n",
      "\n",
      "Epoch 4/100, Training Loss: 1.098184585571289, Validation Loss: 1.1014190912246704, Time taken : 144.4secs\n",
      "\n",
      "Epoch 5/100, Training Loss: 1.098130226135254, Validation Loss: 1.1008658409118652, Time taken : 177.81secs\n",
      "\n",
      "Epoch 6/100, Training Loss: 1.0978224277496338, Validation Loss: 1.1002835035324097, Time taken : 212.59secs\n",
      "\n",
      "Epoch 7/100, Training Loss: 1.0976452827453613, Validation Loss: 1.0998209714889526, Time taken : 249.68secs\n",
      "\n",
      "Epoch 8/100, Training Loss: 1.0975162982940674, Validation Loss: 1.0995078086853027, Time taken : 298.28secs\n",
      "\n",
      "Epoch 9/100, Training Loss: 1.0973656177520752, Validation Loss: 1.0993314981460571, Time taken : 338.49secs\n",
      "\n",
      "Epoch 10/100, Training Loss: 1.0971932411193848, Validation Loss: 1.0992621183395386, Time taken : 371.43secs\n",
      "\n",
      "Epoch 11/100, Training Loss: 1.0969096422195435, Validation Loss: 1.0992683172225952, Time taken : 395.98secs\n",
      "\n",
      "Epoch 12/100, Training Loss: 1.096431851387024, Validation Loss: 1.099350094795227, Time taken : 423.24secs\n",
      "\n",
      "Epoch 13/100, Training Loss: 1.0958590507507324, Validation Loss: 1.0995413064956665, Time taken : 447.74secs\n",
      "\n",
      "Epoch 14/100, Training Loss: 1.0952261686325073, Validation Loss: 1.099821925163269, Time taken : 475.27secs\n",
      "\n",
      "Epoch 15/100, Training Loss: 1.0942604541778564, Validation Loss: 1.0999573469161987, Time taken : 499.82secs\n",
      "\n",
      "Epoch 16/100, Training Loss: 1.093200445175171, Validation Loss: 1.099867343902588, Time taken : 526.77secs\n",
      "\n",
      "Epoch 17/100, Training Loss: 1.091987133026123, Validation Loss: 1.1005557775497437, Time taken : 550.71secs\n",
      "\n",
      "Epoch 18/100, Training Loss: 1.0900046825408936, Validation Loss: 1.100699543952942, Time taken : 577.89secs\n",
      "\n",
      "Epoch 19/100, Training Loss: 1.0873914957046509, Validation Loss: 1.107851266860962, Time taken : 601.8secs\n",
      "\n",
      "Epoch 20/100, Training Loss: 1.0849732160568237, Validation Loss: 1.100614070892334, Time taken : 628.68secs\n",
      "\n",
      "Epoch 21/100, Training Loss: 1.0860316753387451, Validation Loss: 1.097795009613037, Time taken : 652.76secs\n",
      "\n",
      "Epoch 22/100, Training Loss: 1.0776501893997192, Validation Loss: 1.1153813600540161, Time taken : 678.92secs\n",
      "\n",
      "Epoch 23/100, Training Loss: 1.0814120769500732, Validation Loss: 1.0935754776000977, Time taken : 703.66secs\n",
      "\n",
      "Epoch 24/100, Training Loss: 1.0693631172180176, Validation Loss: 1.0916650295257568, Time taken : 729.48secs\n",
      "\n",
      "Epoch 25/100, Training Loss: 1.0686287879943848, Validation Loss: 1.0828346014022827, Time taken : 754.31secs\n",
      "\n",
      "Epoch 26/100, Training Loss: 1.0530893802642822, Validation Loss: 1.1035770177841187, Time taken : 779.13secs\n",
      "\n",
      "Epoch 27/100, Training Loss: 1.0545783042907715, Validation Loss: 1.077529788017273, Time taken : 804.48secs\n",
      "\n",
      "Epoch 28/100, Training Loss: 1.034328818321228, Validation Loss: 1.0735517740249634, Time taken : 828.45secs\n",
      "\n",
      "Epoch 29/100, Training Loss: 1.020017385482788, Validation Loss: 1.0561307668685913, Time taken : 854.41secs\n",
      "\n",
      "Epoch 30/100, Training Loss: 0.9959229826927185, Validation Loss: 1.0528053045272827, Time taken : 878.08secs\n",
      "\n",
      "Epoch 31/100, Training Loss: 0.9812743067741394, Validation Loss: 1.0681312084197998, Time taken : 904.57secs\n",
      "\n",
      "Epoch 32/100, Training Loss: 0.9839970469474792, Validation Loss: 1.0295190811157227, Time taken : 928.32secs\n",
      "\n",
      "Epoch 33/100, Training Loss: 0.9402503967285156, Validation Loss: 1.0352083444595337, Time taken : 955.8secs\n",
      "\n",
      "Epoch 34/100, Training Loss: 0.947442889213562, Validation Loss: 0.9919813871383667, Time taken : 980.53secs\n",
      "\n",
      "Epoch 35/100, Training Loss: 0.9045879244804382, Validation Loss: 1.014463186264038, Time taken : 1007.54secs\n",
      "\n",
      "Epoch 36/100, Training Loss: 0.9162999987602234, Validation Loss: 0.9695280194282532, Time taken : 1031.56secs\n",
      "\n",
      "Epoch 37/100, Training Loss: 0.8728051781654358, Validation Loss: 0.9969713687896729, Time taken : 1058.67secs\n",
      "\n",
      "Epoch 38/100, Training Loss: 0.8852828741073608, Validation Loss: 0.9590116143226624, Time taken : 1082.66secs\n",
      "\n",
      "Epoch 39/100, Training Loss: 0.8393134474754333, Validation Loss: 0.9842300415039062, Time taken : 1109.48secs\n",
      "\n",
      "Epoch 40/100, Training Loss: 0.8580911755561829, Validation Loss: 0.9578597545623779, Time taken : 1133.72secs\n",
      "\n",
      "Epoch 41/100, Training Loss: 0.810377836227417, Validation Loss: 0.9679235816001892, Time taken : 1160.33secs\n",
      "\n",
      "Epoch 42/100, Training Loss: 0.8112196326255798, Validation Loss: 0.9403442740440369, Time taken : 1185.68secs\n",
      "\n",
      "Epoch 43/100, Training Loss: 0.7946720123291016, Validation Loss: 0.9226943254470825, Time taken : 1212.35secs\n",
      "\n",
      "Epoch 44/100, Training Loss: 0.7871602177619934, Validation Loss: 0.9167726039886475, Time taken : 1237.14secs\n",
      "\n",
      "Epoch 45/100, Training Loss: 0.7620831727981567, Validation Loss: 0.9325419664382935, Time taken : 1263.5secs\n",
      "\n",
      "Epoch 46/100, Training Loss: 0.7449275851249695, Validation Loss: 0.9658851623535156, Time taken : 1288.79secs\n",
      "\n",
      "Epoch 47/100, Training Loss: 0.7455733418464661, Validation Loss: 0.951452910900116, Time taken : 1314.41secs\n",
      "\n",
      "Epoch 48/100, Training Loss: 0.7298866510391235, Validation Loss: 0.927916944026947, Time taken : 1339.82secs\n",
      "\n",
      "Epoch 49/100, Training Loss: 0.7079416513442993, Validation Loss: 0.914313554763794, Time taken : 1364.98secs\n",
      "\n",
      "Epoch 50/100, Training Loss: 0.694007158279419, Validation Loss: 0.9006687998771667, Time taken : 1390.75secs\n",
      "\n",
      "Epoch 51/100, Training Loss: 0.6858775615692139, Validation Loss: 0.940834641456604, Time taken : 1414.94secs\n",
      "\n",
      "Epoch 52/100, Training Loss: 0.7165417075157166, Validation Loss: 0.9516171216964722, Time taken : 1441.27secs\n",
      "\n",
      "Epoch 53/100, Training Loss: 0.7511763572692871, Validation Loss: 0.9004076719284058, Time taken : 1466.29secs\n",
      "\n",
      "Epoch 54/100, Training Loss: 0.6627988219261169, Validation Loss: 0.9168035387992859, Time taken : 1492.82secs\n",
      "\n",
      "Epoch 55/100, Training Loss: 0.6752235293388367, Validation Loss: 0.871458113193512, Time taken : 1516.88secs\n",
      "\n",
      "Epoch 56/100, Training Loss: 0.6700817346572876, Validation Loss: 0.8738885521888733, Time taken : 1543.82secs\n",
      "\n",
      "Epoch 57/100, Training Loss: 0.6337058544158936, Validation Loss: 0.9375675320625305, Time taken : 1568.05secs\n",
      "\n",
      "Epoch 58/100, Training Loss: 0.6417321562767029, Validation Loss: 0.9024920463562012, Time taken : 1594.79secs\n",
      "\n",
      "Epoch 59/100, Training Loss: 0.6076627373695374, Validation Loss: 0.9007174968719482, Time taken : 1618.78secs\n",
      "\n",
      "Epoch 60/100, Training Loss: 0.6308999061584473, Validation Loss: 0.8819761872291565, Time taken : 1646.05secs\n",
      "\n",
      "Epoch 61/100, Training Loss: 0.577970027923584, Validation Loss: 0.9299753308296204, Time taken : 1670.38secs\n",
      "\n",
      "Epoch 62/100, Training Loss: 0.5980037450790405, Validation Loss: 0.8555583953857422, Time taken : 1697.73secs\n",
      "\n",
      "Epoch 63/100, Training Loss: 0.5693767666816711, Validation Loss: 0.859714686870575, Time taken : 1721.78secs\n",
      "\n",
      "Epoch 64/100, Training Loss: 0.5433697700500488, Validation Loss: 0.9403286576271057, Time taken : 1749.04secs\n",
      "\n",
      "Epoch 65/100, Training Loss: 0.5595728754997253, Validation Loss: 0.8705898523330688, Time taken : 1773.12secs\n",
      "\n",
      "Epoch 66/100, Training Loss: 0.5174223184585571, Validation Loss: 0.8722952604293823, Time taken : 1800.38secs\n",
      "\n",
      "Epoch 67/100, Training Loss: 0.5084385871887207, Validation Loss: 0.9692087769508362, Time taken : 1824.75secs\n",
      "\n",
      "Epoch 68/100, Training Loss: 0.5268393158912659, Validation Loss: 0.8930662870407104, Time taken : 1851.66secs\n",
      "\n",
      "Epoch 69/100, Training Loss: 0.491074800491333, Validation Loss: 0.895697832107544, Time taken : 1875.68secs\n",
      "\n",
      "Epoch 70/100, Training Loss: 0.4592058062553406, Validation Loss: 0.9798175096511841, Time taken : 1902.13secs\n",
      "\n",
      "Epoch 71/100, Training Loss: 0.4707620441913605, Validation Loss: 0.9343194961547852, Time taken : 1926.68secs\n",
      "\n",
      "Epoch 72/100, Training Loss: 0.48847696185112, Validation Loss: 1.0061966180801392, Time taken : 1953.62secs\n",
      "\n",
      "Epoch 73/100, Training Loss: 0.45856791734695435, Validation Loss: 0.8959792256355286, Time taken : 1978.11secs\n",
      "\n",
      "Epoch 74/100, Training Loss: 0.41862761974334717, Validation Loss: 0.925986647605896, Time taken : 2003.79secs\n",
      "\n",
      "Epoch 75/100, Training Loss: 0.4154303967952728, Validation Loss: 1.0199908018112183, Time taken : 2028.66secs\n",
      "\n",
      "Epoch 76/100, Training Loss: 0.43383264541625977, Validation Loss: 0.9123550653457642, Time taken : 2053.78secs\n",
      "\n",
      "Epoch 77/100, Training Loss: 0.3827441930770874, Validation Loss: 0.9152703881263733, Time taken : 2078.77secs\n",
      "\n",
      "Epoch 78/100, Training Loss: 0.3788166046142578, Validation Loss: 1.0171229839324951, Time taken : 2102.87secs\n",
      "\n",
      "Epoch 79/100, Training Loss: 0.37844163179397583, Validation Loss: 0.9523806571960449, Time taken : 2128.59secs\n",
      "\n",
      "Epoch 80/100, Training Loss: 0.3880230784416199, Validation Loss: 1.0539271831512451, Time taken : 2152.4secs\n",
      "\n",
      "Epoch 81/100, Training Loss: 0.37008363008499146, Validation Loss: 0.9507362842559814, Time taken : 2178.78secs\n",
      "\n",
      "Early stopping after 82 epochs without improvement.\n"
     ]
    }
   ],
   "source": [
    "start_time = time.time()\n",
    "for epoch in range(num_epochs):\n",
    "    model.train()\n",
    "    optimizer.zero_grad()\n",
    "    outputs = model(X_train_padded)\n",
    "    loss = criterion(outputs, y_train)\n",
    "    loss.backward()\n",
    "    optimizer.step()\n",
    "    train_losses.append(loss.item())\n",
    "    elapsed_time = time.time() - start_time\n",
    "\n",
    "    model.eval()\n",
    "    with torch.no_grad():\n",
    "        test_outputs = model(X_test_padded)\n",
    "        loss = criterion(test_outputs, y_test)\n",
    "        val_losses.append(loss.item())\n",
    "\n",
    "        if loss < best_val_loss:\n",
    "            best_val_loss = loss\n",
    "            wait = 0\n",
    "        else:\n",
    "            wait += 1\n",
    "            if wait >= patience:\n",
    "                print(f'Early stopping after {epoch+1} epochs without improvement.')\n",
    "                break\n",
    "\n",
    "    print(f'Epoch {epoch + 1}/{num_epochs}, Training Loss: {train_losses[-1]}, Validation Loss: {val_losses[-1]}, Time taken : {round(elapsed_time, 2)}secs\\n')"
   ]
  },
  {
   "cell_type": "markdown",
   "metadata": {
    "id": "WdYJAF5_Bx1X"
   },
   "source": [
    "* Plotting the training and validation loss"
   ]
  },
  {
   "cell_type": "code",
   "execution_count": 15,
   "metadata": {
    "colab": {
     "base_uri": "https://localhost:8080/",
     "height": 449
    },
    "executionInfo": {
     "elapsed": 1221,
     "status": "ok",
     "timestamp": 1698779408944,
     "user": {
      "displayName": "Ashok kumar",
      "userId": "14190314357788429280"
     },
     "user_tz": -330
    },
    "id": "XCyCNsMI0h11",
    "outputId": "61cf58a8-b38d-4738-c28c-e76b0800cfab"
   },
   "outputs": [
    {
     "data": {
      "image/png": "[encoded data removed]",
      "text/plain": [
       "<Figure size 640x480 with 1 Axes>"
      ]
     },
     "metadata": {},
     "output_type": "display_data"
    }
   ],
   "source": [
    "plt.plot(range(len(train_losses)), train_losses, label='Training Loss')\n",
    "plt.plot(range(len(val_losses)), val_losses, label='Validation Loss')\n",
    "plt.xlabel('Epoch')\n",
    "plt.ylabel('Loss')\n",
    "plt.legend()\n",
    "plt.show()"
   ]
  },
  {
   "cell_type": "markdown",
   "metadata": {
    "id": "iYvKSavZB5CF"
   },
   "source": [
    "* Model evaluation"
   ]
  },
  {
   "cell_type": "code",
   "execution_count": 16,
   "metadata": {
    "executionInfo": {
     "elapsed": 2080,
     "status": "ok",
     "timestamp": 1698779411018,
     "user": {
      "displayName": "Ashok kumar",
      "userId": "14190314357788429280"
     },
     "user_tz": -330
    },
    "id": "3_imTVzE0p6j"
   },
   "outputs": [],
   "source": [
    "model.eval()\n",
    "with torch.no_grad():\n",
    "    test_outputs = model(X_test_padded)\n",
    "    _, predicted = torch.max(test_outputs, 1)"
   ]
  },
  {
   "cell_type": "code",
   "execution_count": 17,
   "metadata": {
    "executionInfo": {
     "elapsed": 14,
     "status": "ok",
     "timestamp": 1698779411019,
     "user": {
      "displayName": "Ashok kumar",
      "userId": "14190314357788429280"
     },
     "user_tz": -330
    },
    "id": "j6TYczpa0rUO"
   },
   "outputs": [],
   "source": [
    "predicted_labels = [list(label_to_idx.keys())[list(label_to_idx.values()).index(label)] for label in predicted.tolist()]"
   ]
  },
  {
   "cell_type": "code",
   "execution_count": 18,
   "metadata": {
    "executionInfo": {
     "elapsed": 13,
     "status": "ok",
     "timestamp": 1698779411019,
     "user": {
      "displayName": "Ashok kumar",
      "userId": "14190314357788429280"
     },
     "user_tz": -330
    },
    "id": "9FK8YPOz4LW6"
   },
   "outputs": [],
   "source": [
    "y_test_labels = [list(label_to_idx.keys())[list(label_to_idx.values()).index(label)] for label in y_test.tolist()]"
   ]
  },
  {
   "cell_type": "markdown",
   "metadata": {
    "id": "saMInupeCAOk"
   },
   "source": [
    "* The classification report"
   ]
  },
  {
   "cell_type": "code",
   "execution_count": 19,
   "metadata": {
    "colab": {
     "base_uri": "https://localhost:8080/"
    },
    "executionInfo": {
     "elapsed": 12,
     "status": "ok",
     "timestamp": 1698779411019,
     "user": {
      "displayName": "Ashok kumar",
      "userId": "14190314357788429280"
     },
     "user_tz": -330
    },
    "id": "t7BOul9J0vWg",
    "outputId": "d6fe67c8-f531-48c3-9e38-ea519f34e702"
   },
   "outputs": [
    {
     "name": "stdout",
     "output_type": "stream",
     "text": [
      "              precision    recall  f1-score   support\n",
      "\n",
      "       anger       0.76      0.45      0.57       392\n",
      "        fear       0.52      0.78      0.63       416\n",
      "         joy       0.82      0.72      0.77       380\n",
      "\n",
      "    accuracy                           0.65      1188\n",
      "   macro avg       0.70      0.65      0.65      1188\n",
      "weighted avg       0.70      0.65      0.65      1188\n",
      "\n"
     ]
    }
   ],
   "source": [
    "report = classification_report(y_test_labels, predicted_labels)\n",
    "print(report)"
   ]
  },
  {
   "cell_type": "code",
   "execution_count": 19,
   "metadata": {
    "executionInfo": {
     "elapsed": 9,
     "status": "ok",
     "timestamp": 1698779411019,
     "user": {
      "displayName": "Ashok kumar",
      "userId": "14190314357788429280"
     },
     "user_tz": -330
    },
    "id": "JIekhRECvjXp"
   },
   "outputs": [],
   "source": []
  }
 ],
 "metadata": {
  "accelerator": "TPU",
  "colab": {
   "authorship_tag": "ABX9TyMiV2SDPf8XVcjapb8jTCiM",
   "provenance": []
  },
  "kernelspec": {
   "display_name": "Python 3 (ipykernel)",
   "language": "python",
   "name": "python3"
  },
  "language_info": {
   "codemirror_mode": {
    "name": "ipython",
    "version": 3
   },
   "file_extension": ".py",
   "mimetype": "text/x-python",
   "name": "python",
   "nbconvert_exporter": "python",
   "pygments_lexer": "ipython3",
   "version": "3.9.18"
  }
 },
 "nbformat": 4,
 "nbformat_minor": 4
}
