{
 "cells": [
  {
   "cell_type": "code",
   "execution_count": 1,
   "id": "69593ebc-9d7a-46c5-a93d-84484da71e7a",
   "metadata": {},
   "outputs": [],
   "source": [
    "import PyPDF2\n",
    "import pandas as pd\n",
    "import spacy"
   ]
  },
  {
   "cell_type": "code",
   "execution_count": 2,
   "id": "03b215ce-ea59-43fb-9fab-49228da55cce",
   "metadata": {},
   "outputs": [],
   "source": [
    "nlp = spacy.load(\"en_core_web_lg\")"
   ]
  },
  {
   "cell_type": "markdown",
   "id": "87924619-34bd-46b9-9820-96d3f573d646",
   "metadata": {},
   "source": [
    "### Mask names in the given text with asterisks.\n",
    "\n",
    "* The input text containing named entities to mask.\n",
    "\n",
    "* nlp (spacy.language.Language): A spaCy NLP pipeline for entity recognition.\n",
    "\n",
    "* The input text with names replaced by masked versions."
   ]
  },
  {
   "cell_type": "code",
   "execution_count": 3,
   "id": "4d7382da-2317-4634-8618-9b61205138a4",
   "metadata": {},
   "outputs": [],
   "source": [
    "def mask_names(text, nlp):\n",
    "    doc = nlp(text)\n",
    "    masked_text = text\n",
    "    for ent in doc.ents:\n",
    "        if ent.label_ == \"PERSON\":\n",
    "            name = ent.text\n",
    "            masked_name = name[0] + '*' * (len(name) - 2) + name[-1]\n",
    "            masked_text = masked_text.replace(name, masked_name)\n",
    "    return masked_text"
   ]
  },
  {
   "cell_type": "code",
   "execution_count": 4,
   "id": "ec5f3fd8-5581-4647-b205-2f21503d3123",
   "metadata": {},
   "outputs": [],
   "source": [
    "data = {\n",
    "    'page number': [],\n",
    "    'page content': [],\n",
    "    'masked content': [],\n",
    "    'Extracted Names': []\n",
    "}"
   ]
  },
  {
   "cell_type": "code",
   "execution_count": 5,
   "id": "07823197-ab76-4b08-a832-43beacd71850",
   "metadata": {},
   "outputs": [],
   "source": [
    "with open('training_data.pdf', 'rb') as pdf_file:\n",
    "    pdf_reader = PyPDF2.PdfReader(pdf_file)\n",
    "    \n",
    "    # Process the first 100 pages\n",
    "    for page_num in range(100):\n",
    "        page = pdf_reader.pages[page_num]\n",
    "        page_text = page.extract_text()\n",
    "        \n",
    "        # Mask human names using spaCy NER\n",
    "        masked_text = mask_names(page_text, nlp)\n",
    "        \n",
    "        data['page number'].append(page_num + 1)\n",
    "        data['page content'].append(page_text)\n",
    "        data['masked content'].append(masked_text)\n",
    "        data['Extracted Names'].append([ent.text for ent in nlp(page_text).ents if ent.label_ == \"PERSON\"])"
   ]
  },
  {
   "cell_type": "code",
   "execution_count": 6,
   "id": "89d5e9ef-3b13-4f40-b748-9aa679398a66",
   "metadata": {},
   "outputs": [],
   "source": [
    "df = pd.DataFrame(data)"
   ]
  },
  {
   "cell_type": "code",
   "execution_count": 7,
   "id": "d34f5156-42af-4ce5-8a48-b6ac75ec2ef8",
   "metadata": {},
   "outputs": [
    {
     "data": {
      "text/html": [
       "<div>\n",
       "<style scoped>\n",
       "    .dataframe tbody tr th:only-of-type {\n",
       "        vertical-align: middle;\n",
       "    }\n",
       "\n",
       "    .dataframe tbody tr th {\n",
       "        vertical-align: top;\n",
       "    }\n",
       "\n",
       "    .dataframe thead th {\n",
       "        text-align: right;\n",
       "    }\n",
       "</style>\n",
       "<table border=\"1\" class=\"dataframe\">\n",
       "  <thead>\n",
       "    <tr style=\"text-align: right;\">\n",
       "      <th></th>\n",
       "      <th>page number</th>\n",
       "      <th>page content</th>\n",
       "      <th>masked content</th>\n",
       "      <th>Extracted Names</th>\n",
       "    </tr>\n",
       "  </thead>\n",
       "  <tbody>\n",
       "    <tr>\n",
       "      <th>0</th>\n",
       "      <td>1</td>\n",
       "      <td>Akshay Kumar, Fair Superstar: Why criticism ov...</td>\n",
       "      <td>A**********r, Fair Superstar: Why criticism ov...</td>\n",
       "      <td>[Akshay Kumar, Akshay Kumar]</td>\n",
       "    </tr>\n",
       "    <tr>\n",
       "      <th>1</th>\n",
       "      <td>2</td>\n",
       "      <td>Remembering Shammi Kapoor, India's answer to E...</td>\n",
       "      <td>Remembering S***********r, India's answer to E...</td>\n",
       "      <td>[Shammi Kapoor, Elvis Presley]</td>\n",
       "    </tr>\n",
       "    <tr>\n",
       "      <th>2</th>\n",
       "      <td>3</td>\n",
       "      <td>After Article 370, new style: This can be a fr...</td>\n",
       "      <td>After Article 370, new style: This can be a fr...</td>\n",
       "      <td>[]</td>\n",
       "    </tr>\n",
       "    <tr>\n",
       "      <th>3</th>\n",
       "      <td>4</td>\n",
       "      <td>The original female superstar: How Vyjanthimal...</td>\n",
       "      <td>The original female superstar: How V**********...</td>\n",
       "      <td>[Vyjanthimala, Bollywood]</td>\n",
       "    </tr>\n",
       "    <tr>\n",
       "      <th>4</th>\n",
       "      <td>5</td>\n",
       "      <td>13 YO Kabhi Alvida Naa Kehna: A progressive fi...</td>\n",
       "      <td>13 Y******i A**************a: A progressive fi...</td>\n",
       "      <td>[YO Kabhi, Alvida Naa Kehna]</td>\n",
       "    </tr>\n",
       "  </tbody>\n",
       "</table>\n",
       "</div>"
      ],
      "text/plain": [
       "   page number                                       page content  \\\n",
       "0            1  Akshay Kumar, Fair Superstar: Why criticism ov...   \n",
       "1            2  Remembering Shammi Kapoor, India's answer to E...   \n",
       "2            3  After Article 370, new style: This can be a fr...   \n",
       "3            4  The original female superstar: How Vyjanthimal...   \n",
       "4            5  13 YO Kabhi Alvida Naa Kehna: A progressive fi...   \n",
       "\n",
       "                                      masked content  \\\n",
       "0  A**********r, Fair Superstar: Why criticism ov...   \n",
       "1  Remembering S***********r, India's answer to E...   \n",
       "2  After Article 370, new style: This can be a fr...   \n",
       "3  The original female superstar: How V**********...   \n",
       "4  13 Y******i A**************a: A progressive fi...   \n",
       "\n",
       "                  Extracted Names  \n",
       "0    [Akshay Kumar, Akshay Kumar]  \n",
       "1  [Shammi Kapoor, Elvis Presley]  \n",
       "2                              []  \n",
       "3       [Vyjanthimala, Bollywood]  \n",
       "4    [YO Kabhi, Alvida Naa Kehna]  "
      ]
     },
     "execution_count": 7,
     "metadata": {},
     "output_type": "execute_result"
    }
   ],
   "source": [
    "df.head()"
   ]
  },
  {
   "cell_type": "code",
   "execution_count": null,
   "id": "163b061f-0838-47a9-ac5e-3d0203c45fd9",
   "metadata": {},
   "outputs": [],
   "source": []
  }
 ],
 "metadata": {
  "kernelspec": {
   "display_name": "Python 3 (ipykernel)",
   "language": "python",
   "name": "python3"
  },
  "language_info": {
   "codemirror_mode": {
    "name": "ipython",
    "version": 3
   },
   "file_extension": ".py",
   "mimetype": "text/x-python",
   "name": "python",
   "nbconvert_exporter": "python",
   "pygments_lexer": "ipython3",
   "version": "3.9.18"
  }
 },
 "nbformat": 4,
 "nbformat_minor": 5
}
