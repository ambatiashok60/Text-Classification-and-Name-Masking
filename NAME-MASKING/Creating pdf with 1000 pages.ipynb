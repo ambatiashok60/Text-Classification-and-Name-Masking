{
 "cells": [
  {
   "cell_type": "code",
   "execution_count": 1,
   "id": "05053c69-cf5d-4d74-8fc3-9b0b39fdb8aa",
   "metadata": {},
   "outputs": [],
   "source": [
    "import pandas as pd\n",
    "import numpy as np\n",
    "from reportlab.pdfgen import canvas\n",
    "from reportlab.lib.pagesizes import letter\n",
    "from reportlab.lib import colors\n",
    "from reportlab.platypus import SimpleDocTemplate, Paragraph, PageBreak\n",
    "from reportlab.lib.styles import getSampleStyleSheet"
   ]
  },
  {
   "cell_type": "code",
   "execution_count": 2,
   "id": "a1ac102e-0433-405a-b8aa-83d8901bf4b9",
   "metadata": {},
   "outputs": [
    {
     "data": {
      "text/plain": [
       "(19060,)"
      ]
     },
     "execution_count": 2,
     "metadata": {},
     "output_type": "execute_result"
    }
   ],
   "source": [
    "df = pd.read_csv(\"dailyo.csv\")\n",
    "data = df[\"News_title\"].values\n",
    "data.shape"
   ]
  },
  {
   "cell_type": "code",
   "execution_count": 3,
   "id": "5034a4f6-b544-4091-8cd2-a874f54544fe",
   "metadata": {},
   "outputs": [
    {
     "data": {
      "text/plain": [
       "array([\"Akshay Kumar, Fair Superstar: Why criticism over 'sexism' in Akshay Kumar’s 'Mission Mangal' is unwarranted\",\n",
       "       \"Remembering Shammi Kapoor, India's answer to Elvis Presley\",\n",
       "       'After Article 370, new style: This can be a fresh start for fashion designers from J&K and Ladakh',\n",
       "       'The original female superstar: How Vyjanthimala danced into Bollywood, and made the industry dance around her',\n",
       "       '13 YO Kabhi Alvida Naa Kehna: A progressive film with utterly regressive treatment'],\n",
       "      dtype=object)"
      ]
     },
     "execution_count": 3,
     "metadata": {},
     "output_type": "execute_result"
    }
   ],
   "source": [
    "data = data[:1000]\n",
    "data[:5]"
   ]
  },
  {
   "cell_type": "code",
   "execution_count": 4,
   "id": "70784052-df6f-4f5c-a107-63c5d63130e5",
   "metadata": {},
   "outputs": [
    {
     "name": "stdout",
     "output_type": "stream",
     "text": [
      "PDF with 1000 pages has been created: training_data.pdf\n"
     ]
    }
   ],
   "source": [
    "pdf_filename = \"training_data.pdf\"\n",
    "doc = SimpleDocTemplate(pdf_filename, pagesize=letter)\n",
    "elements = []\n",
    "styles = getSampleStyleSheet()\n",
    "paragraph_style = styles['Normal']\n",
    "\n",
    "for sentence in data:\n",
    "    elements.append(Paragraph(sentence, paragraph_style))\n",
    "    elements.append(PageBreak())\n",
    "\n",
    "doc.build(elements)\n",
    "print(f\"PDF with {len(data)} pages has been created: {pdf_filename}\")"
   ]
  },
  {
   "cell_type": "code",
   "execution_count": null,
   "id": "a26e14e9-2c34-4f1b-84ca-cf8f7852bf70",
   "metadata": {},
   "outputs": [],
   "source": []
  }
 ],
 "metadata": {
  "kernelspec": {
   "display_name": "Python 3 (ipykernel)",
   "language": "python",
   "name": "python3"
  },
  "language_info": {
   "codemirror_mode": {
    "name": "ipython",
    "version": 3
   },
   "file_extension": ".py",
   "mimetype": "text/x-python",
   "name": "python",
   "nbconvert_exporter": "python",
   "pygments_lexer": "ipython3",
   "version": "3.9.18"
  }
 },
 "nbformat": 4,
 "nbformat_minor": 5
}
